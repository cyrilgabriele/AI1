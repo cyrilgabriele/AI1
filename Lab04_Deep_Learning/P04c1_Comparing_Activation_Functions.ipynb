{
  "cells": [
    {
      "cell_type": "code",
      "execution_count": null,
      "id": "652c949a",
      "metadata": {
        "id": "652c949a",
        "outputId": "8470030c-c8c3-46ab-bc32-48176b4094c3",
        "colab": {
          "base_uri": "https://localhost:8080/"
        }
      },
      "outputs": [
        {
          "output_type": "stream",
          "name": "stdout",
          "text": [
            "Downloading http://yann.lecun.com/exdb/mnist/train-images-idx3-ubyte.gz\n",
            "Downloading http://yann.lecun.com/exdb/mnist/train-images-idx3-ubyte.gz to /root/.pytorch/MNIST_data/MNIST/raw/train-images-idx3-ubyte.gz\n"
          ]
        },
        {
          "output_type": "stream",
          "name": "stderr",
          "text": [
            "100%|██████████| 9912422/9912422 [00:00<00:00, 78767536.48it/s]\n"
          ]
        },
        {
          "output_type": "stream",
          "name": "stdout",
          "text": [
            "Extracting /root/.pytorch/MNIST_data/MNIST/raw/train-images-idx3-ubyte.gz to /root/.pytorch/MNIST_data/MNIST/raw\n",
            "\n",
            "Downloading http://yann.lecun.com/exdb/mnist/train-labels-idx1-ubyte.gz\n",
            "Downloading http://yann.lecun.com/exdb/mnist/train-labels-idx1-ubyte.gz to /root/.pytorch/MNIST_data/MNIST/raw/train-labels-idx1-ubyte.gz\n"
          ]
        },
        {
          "output_type": "stream",
          "name": "stderr",
          "text": [
            "100%|██████████| 28881/28881 [00:00<00:00, 102138021.77it/s]\n"
          ]
        },
        {
          "output_type": "stream",
          "name": "stdout",
          "text": [
            "Extracting /root/.pytorch/MNIST_data/MNIST/raw/train-labels-idx1-ubyte.gz to /root/.pytorch/MNIST_data/MNIST/raw\n",
            "\n",
            "Downloading http://yann.lecun.com/exdb/mnist/t10k-images-idx3-ubyte.gz\n",
            "Downloading http://yann.lecun.com/exdb/mnist/t10k-images-idx3-ubyte.gz to /root/.pytorch/MNIST_data/MNIST/raw/t10k-images-idx3-ubyte.gz\n"
          ]
        },
        {
          "output_type": "stream",
          "name": "stderr",
          "text": [
            "100%|██████████| 1648877/1648877 [00:00<00:00, 26707439.26it/s]\n"
          ]
        },
        {
          "output_type": "stream",
          "name": "stdout",
          "text": [
            "Extracting /root/.pytorch/MNIST_data/MNIST/raw/t10k-images-idx3-ubyte.gz to /root/.pytorch/MNIST_data/MNIST/raw\n",
            "\n",
            "Downloading http://yann.lecun.com/exdb/mnist/t10k-labels-idx1-ubyte.gz\n",
            "Downloading http://yann.lecun.com/exdb/mnist/t10k-labels-idx1-ubyte.gz to /root/.pytorch/MNIST_data/MNIST/raw/t10k-labels-idx1-ubyte.gz\n"
          ]
        },
        {
          "output_type": "stream",
          "name": "stderr",
          "text": [
            "100%|██████████| 4542/4542 [00:00<00:00, 22706232.14it/s]\n"
          ]
        },
        {
          "output_type": "stream",
          "name": "stdout",
          "text": [
            "Extracting /root/.pytorch/MNIST_data/MNIST/raw/t10k-labels-idx1-ubyte.gz to /root/.pytorch/MNIST_data/MNIST/raw\n",
            "\n"
          ]
        }
      ],
      "source": [
        "import torch\n",
        "from torch import nn\n",
        "from torchvision import datasets, transforms\n",
        "from torch.utils.data import DataLoader\n",
        "\n",
        "# Define the network architecture\n",
        "class Net(nn.Module):\n",
        "    def __init__(self, activation):\n",
        "        super(Net, self).__init__()\n",
        "        self.fc1 = nn.Linear(28*28, 50)\n",
        "        self.fc2 = nn.Linear(50, 10)\n",
        "        if activation == 'relu':\n",
        "            self.activation = nn.ReLU()\n",
        "        elif activation == 'sigmoid':\n",
        "            self.activation = nn.Sigmoid()\n",
        "\n",
        "    def forward(self, x):\n",
        "        x = x.view(-1, 28*28)\n",
        "        x = self.activation(self.fc1(x))\n",
        "        x = self.fc2(x)\n",
        "        return x\n",
        "\n",
        "# Load the MNIST dataset\n",
        "transform = transforms.ToTensor()\n",
        "train_data = datasets.MNIST(root='~/.pytorch/MNIST_data/', train=True, transform=transform, download=True)\n",
        "train_loader = DataLoader(train_data, batch_size=64, shuffle=True)\n",
        "\n",
        "# Define the loss"
      ]
    },
    {
      "cell_type": "code",
      "execution_count": null,
      "id": "fd0e2962",
      "metadata": {
        "id": "fd0e2962",
        "outputId": "83327140-43ae-4652-816a-df28d7f55348",
        "colab": {
          "base_uri": "https://localhost:8080/"
        }
      },
      "outputs": [
        {
          "output_type": "stream",
          "name": "stdout",
          "text": [
            "Epoch 1, Loss: 0.2476522531082381\n",
            "Epoch 1, Loss: 0.2893677392303308\n",
            "Epoch 2, Loss: 0.13922109115950224\n",
            "Epoch 2, Loss: 0.14228193213078957\n",
            "Epoch 3, Loss: 0.11939063329728189\n",
            "Epoch 3, Loss: 0.11300492928232322\n",
            "Epoch 4, Loss: 0.11090206976189142\n",
            "Epoch 4, Loss: 0.09522830536747888\n",
            "Epoch 5, Loss: 0.1041019195156457\n",
            "Epoch 5, Loss: 0.08584771079839325\n",
            "Epoch 6, Loss: 0.09544148916755416\n",
            "Epoch 6, Loss: 0.07869305453900653\n",
            "Epoch 7, Loss: 0.08928745738387024\n",
            "Epoch 7, Loss: 0.0713954939514891\n",
            "Epoch 8, Loss: 0.08781476881093982\n",
            "Epoch 8, Loss: 0.06543938169625205\n",
            "Epoch 9, Loss: 0.08616920096041666\n",
            "Epoch 9, Loss: 0.061322095668139946\n",
            "Epoch 10, Loss: 0.08112983987758197\n",
            "Epoch 10, Loss: 0.06068831523642071\n",
            "Finished Training\n"
          ]
        }
      ],
      "source": [
        "# Define the loss\n",
        "criterion = nn.CrossEntropyLoss()\n",
        "\n",
        "# Create the networks\n",
        "net_relu = Net('relu')\n",
        "net_sigmoid = Net('sigmoid')\n",
        "\n",
        "'''\n",
        "# Define the optimizer\n",
        "optimizer_relu = torch.optim.SGD(net_relu.parameters(), lr=0.01)\n",
        "optimizer_sigmoid = torch.optim.SGD(net_sigmoid.parameters(), lr=0.01)\n",
        "'''\n",
        "\n",
        "#with ADAM optimizer:\n",
        "optimizer_relu = torch.optim.Adam(net_relu.parameters(), lr=0.01)\n",
        "optimizer_sigmoid = torch.optim.Adam(net_sigmoid.parameters(), lr=0.01)\n",
        "\n",
        "\n",
        "# Train the networks\n",
        "for epoch in range(10):  # loop over the dataset multiple times\n",
        "    for nets, optimizers in [(net_relu, optimizer_relu), (net_sigmoid, optimizer_sigmoid)]:\n",
        "        running_loss = 0.0\n",
        "        for i, data in enumerate(train_loader, 0):\n",
        "            # get the inputs; data is a list of [inputs, labels]\n",
        "            inputs, labels = data\n",
        "\n",
        "            # zero the parameter gradients\n",
        "            optimizers.zero_grad()\n",
        "\n",
        "            # forward + backward + optimize\n",
        "            outputs = nets(inputs)\n",
        "            loss = criterion(outputs, labels)\n",
        "            loss.backward()\n",
        "            optimizers.step()\n",
        "\n",
        "            # print statistics\n",
        "            running_loss += loss.item()\n",
        "        print(f'Epoch {epoch+1}, Loss: {running_loss/len(train_loader)}')\n",
        "\n",
        "print('Finished Training')\n",
        "\n"
      ]
    },
    {
      "cell_type": "code",
      "execution_count": null,
      "id": "b29ccc2b",
      "metadata": {
        "id": "b29ccc2b",
        "outputId": "161d9da1-dc4d-4542-a2b7-1597674761ca",
        "colab": {
          "base_uri": "https://localhost:8080/"
        }
      },
      "outputs": [
        {
          "output_type": "stream",
          "name": "stdout",
          "text": [
            "Accuracy of the network with ReLU on the 10000 test images: 96 %\n",
            "Accuracy of the network with ReLU on the 10000 test images: 96 %\n"
          ]
        }
      ],
      "source": [
        "# Now let's evaluate the performance of the two models\n",
        "test_data = datasets.MNIST(root='~/.pytorch/MNIST_data/', train=False, transform=transform, download=True)\n",
        "test_loader = DataLoader(test_data, batch_size=64, shuffle=True)\n",
        "\n",
        "correct_relu = 0\n",
        "total_relu = 0\n",
        "correct_sigmoid = 0\n",
        "total_sigmoid = 0\n",
        "\n",
        "with torch.no_grad():\n",
        "    for data in test_loader:\n",
        "        images, labels = data\n",
        "\n",
        "        # Evaluate ReLU network\n",
        "        outputs = net_relu(images)\n",
        "        _, predicted = torch.max(outputs.data, 1)\n",
        "        total_relu += labels.size(0)\n",
        "        correct_relu += (predicted == labels).sum().item()\n",
        "\n",
        "        # Evaluate Sigmoid network\n",
        "        outputs = net_sigmoid(images)\n",
        "        _, predicted = torch.max(outputs.data, 1)\n",
        "        total_sigmoid += labels.size(0)\n",
        "        correct_sigmoid += (predicted == labels).sum().item()\n",
        "\n",
        "print('Accuracy of the network with ReLU on the 10000 test images: %d %%' % (100 * correct_relu / total_relu))\n",
        "print('Accuracy of the network with Sigmoid on the 10000 test images: %d %%' % (100 * correct_sigmoid / total_sigmoid))"
      ]
    }
  ],
  "metadata": {
    "kernelspec": {
      "display_name": "Python 3",
      "name": "python3"
    },
    "language_info": {
      "codemirror_mode": {
        "name": "ipython",
        "version": 3
      },
      "file_extension": ".py",
      "mimetype": "text/x-python",
      "name": "python",
      "nbconvert_exporter": "python",
      "pygments_lexer": "ipython3",
      "version": "3.10.9"
    },
    "colab": {
      "provenance": [],
      "gpuType": "T4"
    },
    "accelerator": "GPU"
  },
  "nbformat": 4,
  "nbformat_minor": 5
}